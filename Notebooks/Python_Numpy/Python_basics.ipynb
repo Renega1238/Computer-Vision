{
 "cells": [
  {
   "cell_type": "markdown",
   "metadata": {},
   "source": [
    "# Python basics\n",
    "\n",
    "We will cover the following not so basic, but necesary, Python code: data structures, iterators, generators, list comprehension, lambdas, and object oriented programming."
   ]
  },
  {
   "cell_type": "markdown",
   "metadata": {},
   "source": [
    "## Data structures\n",
    "\n",
    "### Lists and tuples\n",
    "\n",
    "Both are data structures that can store a collection of items of any type. Their main difference is that tuples are **immutable**, while lists are **mutable**."
   ]
  },
  {
   "cell_type": "code",
   "execution_count": 19,
   "metadata": {},
   "outputs": [],
   "source": [
    "import random, math"
   ]
  },
  {
   "cell_type": "code",
   "execution_count": 2,
   "metadata": {},
   "outputs": [
    {
     "name": "stdout",
     "output_type": "stream",
     "text": [
      "(1, 2.0, 'QWERTY', True)\n",
      "<class 'tuple'>\n",
      "1 QWERTY\n"
     ]
    }
   ],
   "source": [
    "tup_1 = (1, 2.0, \"QWERTY\", True)\n",
    "print(tup_1)\n",
    "print(type(tup_1))\n",
    "print(tup_1[0], tup_1[2])"
   ]
  },
  {
   "cell_type": "code",
   "execution_count": 3,
   "metadata": {},
   "outputs": [
    {
     "ename": "TypeError",
     "evalue": "'tuple' object does not support item assignment",
     "output_type": "error",
     "traceback": [
      "\u001b[0;31m--------------------------------------------------------------------------\u001b[0m",
      "\u001b[0;31mTypeError\u001b[0m                                Traceback (most recent call last)",
      "\u001b[0;32m<ipython-input-3-0193b3a07a09>\u001b[0m in \u001b[0;36m<module>\u001b[0;34m\u001b[0m\n\u001b[0;32m----> 1\u001b[0;31m \u001b[0mtup_1\u001b[0m\u001b[0;34m[\u001b[0m\u001b[0;36m0\u001b[0m\u001b[0;34m]\u001b[0m \u001b[0;34m=\u001b[0m \u001b[0;36m5\u001b[0m\u001b[0;34m\u001b[0m\u001b[0;34m\u001b[0m\u001b[0m\n\u001b[0m",
      "\u001b[0;31mTypeError\u001b[0m: 'tuple' object does not support item assignment"
     ]
    }
   ],
   "source": [
    "tup_1[0] = 5"
   ]
  },
  {
   "cell_type": "code",
   "execution_count": 4,
   "metadata": {},
   "outputs": [
    {
     "name": "stdout",
     "output_type": "stream",
     "text": [
      "<class 'list'>\n",
      "<class 'tuple'>\n"
     ]
    }
   ],
   "source": [
    "l_1 = [5, 6, 7]\n",
    "print(type(l_1))\n",
    "tup_2 = tuple(l_1)\n",
    "print(type(tup_2))"
   ]
  },
  {
   "cell_type": "code",
   "execution_count": 5,
   "metadata": {},
   "outputs": [
    {
     "name": "stdout",
     "output_type": "stream",
     "text": [
      "<class 'tuple'>\n",
      "3\n"
     ]
    }
   ],
   "source": [
    "tup_3 = 1, 2, 3\n",
    "print(type(tup_3))\n",
    "print(tup_3[2])"
   ]
  },
  {
   "cell_type": "code",
   "execution_count": 7,
   "metadata": {},
   "outputs": [
    {
     "name": "stdout",
     "output_type": "stream",
     "text": [
      "<class 'tuple'>\n"
     ]
    }
   ],
   "source": [
    "def num_num_1(num):\n",
    "  return num+1, num+2\n",
    "\n",
    "result = num_num_1(4)\n",
    "print(type(result))"
   ]
  },
  {
   "cell_type": "markdown",
   "metadata": {},
   "source": [
    "### List methods"
   ]
  },
  {
   "cell_type": "code",
   "execution_count": 8,
   "metadata": {},
   "outputs": [
    {
     "name": "stdout",
     "output_type": "stream",
     "text": [
      "[1, 2, 3, 4, 5]\n",
      "5 [1, 2, 3, 4]\n",
      "[1, 2, 3, 4, 3]\n",
      "[1, 2, 3, 4, 1, 3]\n",
      "[1, 2, 3, 4, 1, 3, 2, 3.4, 'a']\n",
      "[1, 3, 4, 1, 3, 2, 3.4, 'a']\n",
      "[1, 3, 4, 1, 3, 3.4, 'a']\n",
      "6\n",
      "2\n",
      "['a', 3.4, 3, 1, 4, 3, 1]\n"
     ]
    }
   ],
   "source": [
    "l_3 = list()\n",
    "l_3 = []\n",
    "\n",
    "l_3 = [1, 2, 3, 4, 5]\n",
    "\n",
    "print(l_3)\n",
    "\n",
    "a = l_3.pop()\n",
    "print(a, l_3)\n",
    "\n",
    "l_3.append(3)\n",
    "print(l_3)\n",
    "\n",
    "l_3.insert(4, 1)\n",
    "print(l_3)\n",
    "\n",
    "l_3.extend([2, 3.4, \"a\"])\n",
    "print(l_3)\n",
    "\n",
    "l_3.remove(2)\n",
    "print(l_3)\n",
    "\n",
    "del(l_3[5])\n",
    "print(l_3)\n",
    "\n",
    "idx = l_3.index(\"a\")\n",
    "print(idx)\n",
    "\n",
    "count = l_3.count(1)\n",
    "print(count)\n",
    "\n",
    "l_3.reverse()\n",
    "print(l_3)"
   ]
  },
  {
   "cell_type": "code",
   "execution_count": 9,
   "metadata": {},
   "outputs": [
    {
     "name": "stdout",
     "output_type": "stream",
     "text": [
      "Removed 3\n",
      "Removed 3\n",
      "3 not in [1, 4, 1, 2, 3.4, 'a']\n",
      "[1, 4, 1, 2, 3.4, 'a']\n"
     ]
    }
   ],
   "source": [
    "l_3 = [1, 3, 4, 1, 3, 2, 3.4, 'a']\n",
    "value = 3\n",
    "\n",
    "while value in l_3:\n",
    "    l_3.remove(value)\n",
    "    print(f\"Removed {value}\")\n",
    "else:\n",
    "  print(f\"{value} not in {l_3}\")\n",
    "\n",
    "print(l_3)"
   ]
  },
  {
   "cell_type": "code",
   "execution_count": 10,
   "metadata": {},
   "outputs": [
    {
     "name": "stdout",
     "output_type": "stream",
     "text": [
      "[5, 1, 60, 49]\n",
      "[5, 1, 60, 49, 'asdasd', 4, 0.5, False]\n",
      "[5, 49, False, 1, 4, 'asdasd', 0.5, 60]\n"
     ]
    }
   ],
   "source": [
    "l_4 = random.sample(range(1, 100), 4)\n",
    "print(l_4)\n",
    "\n",
    "l_4 += [\"asdasd\", 4, 0.5, False]\n",
    "print(l_4)\n",
    "\n",
    "random.shuffle(l_4)\n",
    "print(l_4)\n"
   ]
  },
  {
   "cell_type": "code",
   "execution_count": 11,
   "metadata": {},
   "outputs": [
    {
     "name": "stdout",
     "output_type": "stream",
     "text": [
      "[2, 3, 6, 7, 9]\n",
      "[9, 7, 6, 3, 2]\n"
     ]
    }
   ],
   "source": [
    "l_5 = random.sample(range(1, 10), 5)\n",
    "l_5.sort()\n",
    "print(l_5)\n",
    "\n",
    "l_5.sort(reverse=True)\n",
    "print(l_5)"
   ]
  },
  {
   "cell_type": "markdown",
   "metadata": {},
   "source": [
    "### Slicing"
   ]
  },
  {
   "cell_type": "code",
   "execution_count": 12,
   "metadata": {},
   "outputs": [
    {
     "name": "stdout",
     "output_type": "stream",
     "text": [
      "[76, 74, 45, 89, 79, 31, 54, 43, 36, 13]\n",
      "[45, 89, 79, 31]\n",
      "[79, 54, 36]\n",
      "[76, 74, 45, 89, 79]\n",
      "[31, 54, 43, 36, 13]\n",
      "[13, 36, 43, 54]\n",
      "[13, 36, 43, 54, 31, 79, 89, 45, 74, 76]\n"
     ]
    }
   ],
   "source": [
    "l_1 = random.sample(range(5, 100), 10)\n",
    "print(l_1)\n",
    "\n",
    "l2 = l_1[2:6]\n",
    "print(l2)\n",
    "\n",
    "l3 = l_1[4:-1:2]\n",
    "print(l3)\n",
    "\n",
    "l4 = l_1[:5]\n",
    "print(l4)\n",
    "\n",
    "l5 = l_1[5:]\n",
    "print(l5)\n",
    "\n",
    "print(l_1[-1:5:-1])\n",
    "print(l_1[::-1])"
   ]
  },
  {
   "cell_type": "markdown",
   "metadata": {},
   "source": [
    "### Lambdas, sort, map, reduce, filter\n",
    "\n",
    "Lambda functions are also called \"anonymous functions\" or \"functions without name\". That means that you only use this type of functions when they are created. Lambda functions borrow their name from the lambda keyword in Python, which is used to declare these functions instead of the standard def keyword. These are normally used with **sort, map, reduce,** and **filter**."
   ]
  },
  {
   "cell_type": "code",
   "execution_count": 121,
   "metadata": {},
   "outputs": [
    {
     "name": "stdout",
     "output_type": "stream",
     "text": [
      "[(1, 8), (6, 7), (4, 5), (9, 4), (2, 3)]\n"
     ]
    }
   ],
   "source": [
    "l = [(2, 3), (4, 5), (1, 8), (6, 7), (9,4)]\n",
    "\n",
    "l.sort(key = lambda x: x[1], reverse=True)\n",
    "\n",
    "print(l)"
   ]
  },
  {
   "cell_type": "code",
   "execution_count": 46,
   "metadata": {},
   "outputs": [
    {
     "name": "stdout",
     "output_type": "stream",
     "text": [
      "[52, 54, 10, 70, 63, 45, 61, 36, 32, 51]\n",
      "[7.21, 7.35, 3.16, 8.37, 7.94, 6.71, 7.81, 6.0, 5.66, 7.14]\n",
      "[10, 70, 45]\n",
      "474\n"
     ]
    }
   ],
   "source": [
    "from functools import reduce\n",
    "\n",
    "l = random.sample(range(5, 100), 10)\n",
    "print(l)\n",
    "\n",
    "# map applies a function to each element of a sequence\n",
    "l_2 = list(map(lambda x: round(math.sqrt(x), 2), l))\n",
    "print(l_2)\n",
    "\n",
    "# filter creates a new sequence of elements that fulfill a condition\n",
    "l_3 = list(filter(lambda x: x % 5 == 0, l))\n",
    "print(l_3)\n",
    "\n",
    "# reduce applies a function of two arguments cumulatively to the elements of a sequence\n",
    "l_4 = reduce(lambda x, y: x+y, l)\n",
    "print(l_4)"
   ]
  },
  {
   "cell_type": "code",
   "execution_count": 47,
   "metadata": {},
   "outputs": [
    {
     "name": "stdout",
     "output_type": "stream",
     "text": [
      "474\n"
     ]
    }
   ],
   "source": [
    "print(sum([52, 54, 10, 70, 63, 45, 61, 36, 32, 51]))"
   ]
  },
  {
   "cell_type": "markdown",
   "metadata": {},
   "source": [
    "### List comprehension\n",
    "\n",
    "A list comprehension is a quick way of making a list. Usually the list is the result of some operation that may involve applying a function, filtering, or building a different data structure. Comprehensions are alternatives for map, and filter, among other things."
   ]
  },
  {
   "cell_type": "code",
   "execution_count": 13,
   "metadata": {},
   "outputs": [
    {
     "name": "stdout",
     "output_type": "stream",
     "text": [
      "[1, 2, 4, 5, 7, 8, 10, 11, 13, 14, 16, 17, 19]\n"
     ]
    }
   ],
   "source": [
    "not_multiple_3 = []\n",
    "\n",
    "for i in range(20):\n",
    "  if i % 3 != 0:\n",
    "    not_multiple_3.append(i)\n",
    "    \n",
    "print(not_multiple_3)"
   ]
  },
  {
   "cell_type": "code",
   "execution_count": 30,
   "metadata": {
    "scrolled": false
   },
   "outputs": [
    {
     "name": "stdout",
     "output_type": "stream",
     "text": [
      "[1, 2, 4, 5, 7, 8, 10, 11, 13, 14, 16, 17, 19]\n"
     ]
    }
   ],
   "source": [
    "not_multiple_3 = list(filter(lambda x: x % 3 != 0, range(20)))\n",
    "print(not_multiple_3)"
   ]
  },
  {
   "cell_type": "code",
   "execution_count": 14,
   "metadata": {},
   "outputs": [
    {
     "name": "stdout",
     "output_type": "stream",
     "text": [
      "[1, 2, 4, 5, 7, 8, 10, 11, 13, 14, 16, 17, 19]\n"
     ]
    }
   ],
   "source": [
    "l = [val for val in range(20) if val % 3]\n",
    "print(l)"
   ]
  },
  {
   "cell_type": "code",
   "execution_count": 15,
   "metadata": {},
   "outputs": [
    {
     "name": "stdout",
     "output_type": "stream",
     "text": [
      "2.1 µs ± 117 ns per loop (mean ± std. dev. of 7 runs, 100000 loops each)\n"
     ]
    }
   ],
   "source": [
    "%%timeit\n",
    "not_multiple_3 = []\n",
    "\n",
    "for i in range(20):\n",
    "  if i % 3 != 0:\n",
    "    not_multiple_3.append(i)"
   ]
  },
  {
   "cell_type": "code",
   "execution_count": 31,
   "metadata": {},
   "outputs": [
    {
     "name": "stdout",
     "output_type": "stream",
     "text": [
      "3.16 µs ± 192 ns per loop (mean ± std. dev. of 7 runs, 100000 loops each)\n"
     ]
    }
   ],
   "source": [
    "%timeit not_multiple_3 = list(filter(lambda x: x % 3 != 0, range(20)))"
   ]
  },
  {
   "cell_type": "code",
   "execution_count": 16,
   "metadata": {},
   "outputs": [
    {
     "name": "stdout",
     "output_type": "stream",
     "text": [
      "1.44 µs ± 45.2 ns per loop (mean ± std. dev. of 7 runs, 1000000 loops each)\n"
     ]
    }
   ],
   "source": [
    "%timeit l = [val for val in range(20) if val % 3]"
   ]
  },
  {
   "cell_type": "code",
   "execution_count": 17,
   "metadata": {},
   "outputs": [
    {
     "name": "stdout",
     "output_type": "stream",
     "text": [
      "[(0, 0), (0, 1), (0, 2), (0, 3), (0, 4), (1, 0), (1, 1), (1, 2), (1, 3), (1, 4), (2, 0), (2, 1), (2, 2), (2, 3), (2, 4), (3, 0), (3, 1), (3, 2), (3, 3), (3, 4), (4, 0), (4, 1), (4, 2), (4, 3), (4, 4)]\n"
     ]
    }
   ],
   "source": [
    "l = [(val1, val2) for val1 in range(5) for val2 in range(5)]\n",
    "print(l)"
   ]
  },
  {
   "cell_type": "code",
   "execution_count": 22,
   "metadata": {
    "scrolled": false
   },
   "outputs": [
    {
     "name": "stdout",
     "output_type": "stream",
     "text": [
      "[(3, 4, 5), (6, 8, 10)]\n"
     ]
    }
   ],
   "source": [
    "l = [(a, b, int(math.sqrt(a**2 + b**2))) for a in range(1, 10) for b in range(a, 10) if math.sqrt(a**2+b**2).is_integer()]\n",
    "print(l)"
   ]
  },
  {
   "cell_type": "code",
   "execution_count": 51,
   "metadata": {},
   "outputs": [
    {
     "name": "stdout",
     "output_type": "stream",
     "text": [
      "[6, 79, 8, 38, 25, 5, 55, 77, 20, 73]\n",
      "[2.45, 8.89, 2.83, 6.16, 5.0, 2.24, 7.42, 8.77, 4.47, 8.54]\n",
      "[2.45, 8.89, 2.83, 6.16, 5.0, 2.24, 7.42, 8.77, 4.47, 8.54]\n",
      "[25, 5, 55, 20]\n",
      "[25, 5, 55, 20]\n"
     ]
    }
   ],
   "source": [
    "l = random.sample(range(5, 100), 10)\n",
    "print(l)\n",
    "\n",
    "l_2 = list(map(lambda x: round(math.sqrt(x), 2), l))\n",
    "lc_2 = [round(math.sqrt(x),2) for x in l]\n",
    "print(l_2)\n",
    "print(lc_2)\n",
    "\n",
    "l_3 = list(filter(lambda x: x % 5 == 0, l))\n",
    "lc_3 = [x for x in l if x % 5 == 0]\n",
    "print(l_3)\n",
    "print(lc_3)"
   ]
  },
  {
   "cell_type": "code",
   "execution_count": 285,
   "metadata": {},
   "outputs": [
    {
     "name": "stdout",
     "output_type": "stream",
     "text": [
      "[('name3', 'C', 17), ('name2', 'B', 12), ('name1', 'A', 15)]\n"
     ]
    }
   ],
   "source": [
    "students =[\n",
    "    (\"name1\", \"A\", 15),\n",
    "    (\"name2\", \"B\", 12),\n",
    "    (\"name3\", \"C\", 17)\n",
    "]\n",
    "\n",
    "sort_age = sorted(students, key=lambda x: x[0], reverse=True)\n",
    "print(sort_age)"
   ]
  },
  {
   "cell_type": "markdown",
   "metadata": {},
   "source": [
    "### Dictionaries\n",
    "\n",
    "A dict is an unordered collection of zero or more key–value pairs whose keys are object references that refer to hashable objects. Dictionaries are mutable, so we can easily add or remove items, but since they are unordered they have no notion of index position and so cannot be sliced or strided.\n",
    "\n",
    "Hashability is a characteristic that allows an object to be used as a member as well as a key for a dictionary."
   ]
  },
  {
   "cell_type": "code",
   "execution_count": 66,
   "metadata": {},
   "outputs": [
    {
     "name": "stdout",
     "output_type": "stream",
     "text": [
      "{'A': 1, 'z': -1}\n",
      "{'A': 1, 'z': -1}\n",
      "{'A': 1, 'z': -1}\n",
      "{'A': 1, 'z': -1}\n",
      "{'z': -1}\n",
      "{'z': -1, 'c': 3}\n",
      "True\n",
      "dict_keys(['z', 'c'])\n",
      "dict_values([-1, 3])\n",
      "dict_items([('z', -1), ('c', 3)])\n",
      "{}\n"
     ]
    }
   ],
   "source": [
    "d = dict(A=1, z=-1)\n",
    "print(d)\n",
    "\n",
    "d = {'A' : 1, 'z' : -1}\n",
    "print(d)\n",
    "\n",
    "d = dict([('A', 1), ('z', -1)])\n",
    "print(d)\n",
    "\n",
    "d = {}\n",
    "d['A'] = 1\n",
    "d['z'] = -1\n",
    "print(d)\n",
    "\n",
    "del(d['A'])\n",
    "print(d)\n",
    "\n",
    "d['c'] = 3\n",
    "print(d)\n",
    "\n",
    "print('c' in d) # membership against the keys\n",
    "\n",
    "print(d.keys())\n",
    "print(d.values())\n",
    "print(d.items())\n",
    "\n",
    "d.clear()\n",
    "print(d)"
   ]
  },
  {
   "cell_type": "code",
   "execution_count": 286,
   "metadata": {},
   "outputs": [
    {
     "name": "stdout",
     "output_type": "stream",
     "text": [
      "[{'first': 'B', 'last': 'X', 'year': 1906}, {'first': 'C', 'last': 'Y', 'year': 1912}, {'first': 'A', 'last': 'Z', 'year': 1956}]\n"
     ]
    }
   ],
   "source": [
    "data = [\n",
    "    {'first':'A', 'last':'Z', 'year':1956},\n",
    "    {'first':'B', 'last':'X', 'year':1906},\n",
    "    {'first':'C', 'last':'Y', 'year':1912},\n",
    "]\n",
    "\n",
    "sort_year = sorted(data, key = lambda x: x['year'])\n",
    "print(sort_year)"
   ]
  },
  {
   "cell_type": "markdown",
   "metadata": {},
   "source": [
    "### Dictionary comprehension"
   ]
  },
  {
   "cell_type": "code",
   "execution_count": 87,
   "metadata": {},
   "outputs": [
    {
     "name": "stdout",
     "output_type": "stream",
     "text": [
      "{'a': 1, 'b': 2, 'c': 3, 'd': 4, 'e': 5, 'f': 6, 'g': 7, 'h': 8, 'i': 9, 'j': 10, 'k': 11, 'l': 12, 'm': 13, 'n': 14, 'o': 15, 'p': 16, 'q': 17, 'r': 18, 's': 19, 't': 20, 'u': 21, 'v': 22, 'w': 23, 'x': 24, 'y': 25, 'z': 26}\n",
      "{'a': 1, 'b': 2, 'c': 3, 'd': 4, 'e': 5, 'f': 6, 'g': 7, 'h': 8, 'i': 9, 'j': 10, 'k': 11, 'l': 12, 'm': 13, 'n': 14, 'o': 15, 'p': 16, 'q': 17, 'r': 18, 's': 19, 't': 20, 'u': 21, 'v': 22, 'w': 23, 'x': 24, 'y': 25, 'z': 26}\n",
      "('z', 26)\n",
      "1\n",
      "missing key-value\n"
     ]
    }
   ],
   "source": [
    "from string import ascii_lowercase\n",
    "\n",
    "d = dict((c,k) for k,c in enumerate(ascii_lowercase, 1))\n",
    "print(d)\n",
    "\n",
    "d = {c:k for k, c in enumerate(ascii_lowercase, 1)}\n",
    "print(d)\n",
    "\n",
    "item = d.popitem()\n",
    "print(item)\n",
    "\n",
    "item = d.pop('a')\n",
    "print(item)\n",
    "\n",
    "# Similar to d['a'], but has a default value if the key-value is missing\n",
    "print(d.get('a', 'missing key-value'))"
   ]
  },
  {
   "cell_type": "markdown",
   "metadata": {},
   "source": [
    "### Sets\n",
    "\n",
    "A Set is an unordered collection data type that is iterable, mutable, and has no duplicate elements. The major advantage of using a set, as opposed to a list, is that it has a highly optimized method for checking whether a specific element is contained in the set."
   ]
  },
  {
   "cell_type": "code",
   "execution_count": 99,
   "metadata": {},
   "outputs": [
    {
     "name": "stdout",
     "output_type": "stream",
     "text": [
      "{2, 3, 5}\n",
      "{2, 3}\n",
      "True\n",
      "{2, 3}\n",
      "[11, 6, 2, 8, 1, 5, 9, 7, 12, 13]\n",
      "{1, 2, 5, 6, 7, 8, 9, 11, 12, 13}\n",
      "{1, 2, 3, 4, 5, 6, 7, 9} <class 'set'>\n"
     ]
    }
   ],
   "source": [
    "s = set()\n",
    "\n",
    "s.add(2)\n",
    "s.add(3)\n",
    "s.add(5)\n",
    "\n",
    "print(s)\n",
    "\n",
    "s.remove(5)\n",
    "\n",
    "print(s)\n",
    "\n",
    "print(3 in s)\n",
    "\n",
    "s.add(3)\n",
    "\n",
    "print(s)\n",
    "\n",
    "l = random.sample(range(15), 10)\n",
    "s = set(l)\n",
    "print(l)\n",
    "print(s)\n",
    "\n",
    "s = { 6, 7, 2, 1, 3, 1, 2, 5, 4, 9}\n",
    "print(s, type(s))"
   ]
  },
  {
   "cell_type": "markdown",
   "metadata": {},
   "source": [
    "### Set methods"
   ]
  },
  {
   "cell_type": "code",
   "execution_count": 117,
   "metadata": {},
   "outputs": [
    {
     "name": "stdout",
     "output_type": "stream",
     "text": [
      "{1, 2, 3}\n",
      "{8, 6, 7}\n",
      "{1, 2, 3}\n",
      "{8, 6, 7}\n",
      "{1, 2, 3}\n",
      "{6, 7, 8}\n",
      "{4, 5}\n",
      "{4, 5}\n",
      "False\n",
      "{1, 2, 3, 4, 5, 6, 7, 8}\n",
      "{1, 2, 3, 4, 5, 6, 7, 8}\n",
      "False\n",
      "False\n",
      "True\n",
      "False\n",
      "True\n"
     ]
    }
   ],
   "source": [
    "s1 = {1, 2, 3, 4, 5}\n",
    "s2 = {4, 5, 6, 7, 8}\n",
    "\n",
    "# Difference\n",
    "s3 = s1.difference(s2)\n",
    "print(s3)\n",
    "\n",
    "s3 = s2.difference(s1)\n",
    "print(s3)\n",
    "\n",
    "print(s1-s2)\n",
    "print(s2-s1)\n",
    "\n",
    "# Difference update\n",
    "\n",
    "s1c = s1.copy()\n",
    "s2c = s2.copy()\n",
    "\n",
    "s1c -= s2\n",
    "s2c -= s1\n",
    "\n",
    "print(s1c)\n",
    "print(s2c)\n",
    "\n",
    "# Intersection\n",
    "\n",
    "s3 = s1.intersection(s2)\n",
    "print(s3)\n",
    "\n",
    "print(s2 & s1)\n",
    "\n",
    "# Disjoint\n",
    "\n",
    "print(s1.isdisjoint(s2))\n",
    "\n",
    "# Union\n",
    "\n",
    "print(s1.union(s2))\n",
    "print(s1 | s2)\n",
    "\n",
    "# Subset\n",
    "\n",
    "print(s1.issubset(s2))\n",
    "print(s2.issubset(s1))\n",
    "print({1, 2, 3}.issubset(s1))\n",
    "print(s1.issuperset(s2))\n",
    "print(s1.issuperset({1, 2, 3}))"
   ]
  },
  {
   "cell_type": "markdown",
   "metadata": {},
   "source": [
    "### Set comprehension"
   ]
  },
  {
   "cell_type": "code",
   "execution_count": 156,
   "metadata": {
    "scrolled": true
   },
   "outputs": [
    {
     "name": "stdout",
     "output_type": "stream",
     "text": [
      "zhsyhnwxnqdinszzmjteijiexyhbjqfsigjjuhuu 40\n",
      "{'h', 'b', 'd', 'e', 'i', 'g', 'n', 'f', 'm', 'j'} 10\n"
     ]
    }
   ],
   "source": [
    "from string import ascii_lowercase\n",
    "\n",
    "word = ''.join([letter for letter in random.choices(ascii_lowercase, k = 40)])\n",
    "print(word, len(word))\n",
    "\n",
    "s = { c for c in word if c < 'p'}\n",
    "print(s, len(s))"
   ]
  },
  {
   "cell_type": "markdown",
   "metadata": {},
   "source": [
    "## Generators and Iterators"
   ]
  },
  {
   "cell_type": "markdown",
   "metadata": {},
   "source": [
    "### Iterators\n",
    "\n",
    "Iterator in python is any python type that can be used with a ‘for in loop’. Python lists, tuples, dicts and sets are all examples of inbuilt iterators. These types are iterators because they implement following methods. In fact, any object that wants to be an iterator must implement following methods.\n",
    "\n",
    "1. __iter__ method that is called on initialization of an iterator. This should return an object that has a __next__ method.\n",
    "2. __next__ The iterator next method should return the next value for the iterable. When an iterator is used with a ‘for in’ loop, the for loop implicitly calls next() on the iterator object. This method should raise a StopIteration to signal the end of the iteration."
   ]
  },
  {
   "cell_type": "code",
   "execution_count": 208,
   "metadata": {},
   "outputs": [
    {
     "name": "stdout",
     "output_type": "stream",
     "text": [
      "<list_iterator object at 0x7fe2d7c55a90>\n"
     ]
    }
   ],
   "source": [
    "i = iter([x for x in range(10)])\n",
    "print(i)"
   ]
  },
  {
   "cell_type": "code",
   "execution_count": 287,
   "metadata": {},
   "outputs": [
    {
     "name": "stdout",
     "output_type": "stream",
     "text": [
      "1\n",
      "2\n",
      "3\n",
      "4\n",
      "5\n",
      "6\n",
      "7\n",
      "8\n",
      "9\n",
      "Error: Reached the end of the iterator\n"
     ]
    }
   ],
   "source": [
    "try:\n",
    "    while True:\n",
    "        print(next(i))\n",
    "except StopIteration:\n",
    "    print(\"Error: Reached the end of the iterator\")"
   ]
  },
  {
   "cell_type": "markdown",
   "metadata": {},
   "source": [
    "### zip iterator\n",
    "\n",
    "zip(*iterables) returns an iterator of tuples, where the i-th tuple contains the i-th element from each of the argument sequences or iterables. The iterator stops when the shortest input iterable is exhausted. With a single iterable argument, it returns an iterator of 1-tuples. With no arguments, it returns an empty iterator."
   ]
  },
  {
   "cell_type": "code",
   "execution_count": 272,
   "metadata": {},
   "outputs": [
    {
     "name": "stdout",
     "output_type": "stream",
     "text": [
      "<zip object at 0x7fe2d7c47780>\n",
      "(1, 7)\n",
      "(8, 1)\n",
      "(0, 6)\n",
      "(5, 0)\n",
      "(4, 5)\n",
      "1 7 2\n",
      "8 1 3\n",
      "0 6 0\n",
      "5 0 8\n",
      "4 5 6\n",
      "Error: Reached the end of the iterator\n"
     ]
    }
   ],
   "source": [
    "a = [1, 8, 0, 5, 4]\n",
    "b = [7, 1, 6, 0, 5]\n",
    "c = [2, 3, 0, 8, 6]\n",
    "\n",
    "ab = zip(a, b)\n",
    "abc = zip(a, b, c)\n",
    "print(ab)\n",
    "\n",
    "for elements in ab:\n",
    "    print(elements)\n",
    "    \n",
    "for elements in abc:\n",
    "    # the * is used to \"unpack\" a sequence; in this case, a tuple\n",
    "    print(*elements)\n",
    "\n",
    "try:\n",
    "    print(next(abc))\n",
    "except StopIteration:\n",
    "    print(\"Error: Reached the end of the iterator\")\n",
    "\n",
    "for (e1, e2, e3) in abc:\n",
    "    print(e1, e2, e3)"
   ]
  },
  {
   "cell_type": "markdown",
   "metadata": {},
   "source": [
    "### Generators\n",
    "\n",
    "A problem with lists is that they can easily grow very big. range(1000000) creates an actual list of 1 million elements. If you only need to deal with them one at a time, this can be a huge source of inefficiency (or of running out of memory). If you potentially only need the first few values, then calculating them all is a waste. \n",
    "\n",
    "Generators simplify the creation of iterators. A generator is a function that produces a sequence of results instead of a single value."
   ]
  },
  {
   "cell_type": "code",
   "execution_count": 276,
   "metadata": {},
   "outputs": [
    {
     "name": "stdout",
     "output_type": "stream",
     "text": [
      "0\n",
      "1\n",
      "2\n",
      "3\n",
      "4\n",
      "5\n",
      "6\n",
      "7\n",
      "8\n",
      "9\n"
     ]
    }
   ],
   "source": [
    "def gen_range(n):\n",
    "    i = 0\n",
    "    while i < n:\n",
    "        # Each time the yield statement is executed the function generates a new value.\n",
    "        yield i;\n",
    "        i += 1\n",
    "        \n",
    "for x in gen_range(10):\n",
    "    print(x)    "
   ]
  },
  {
   "cell_type": "code",
   "execution_count": 277,
   "metadata": {},
   "outputs": [
    {
     "name": "stdout",
     "output_type": "stream",
     "text": [
      "0\n",
      "1\n",
      "2\n",
      "3\n",
      "4\n",
      "Reached the end of the generator\n"
     ]
    }
   ],
   "source": [
    "gr = gen_range(5)\n",
    "\n",
    "try:\n",
    "    while True:\n",
    "        print(next(gr))\n",
    "except StopIteration:\n",
    "    print(\"Reached the end of the generator\")"
   ]
  },
  {
   "cell_type": "markdown",
   "metadata": {},
   "source": [
    "### Generators expressions\n",
    "\n",
    "Generator Expressions are generator version of list comprehensions. They look like list comprehensions, but returns a generator back instead of a list."
   ]
  },
  {
   "cell_type": "code",
   "execution_count": 282,
   "metadata": {},
   "outputs": [
    {
     "name": "stdout",
     "output_type": "stream",
     "text": [
      "<generator object <genexpr> at 0x7fe2d7e8aa50>\n"
     ]
    }
   ],
   "source": [
    "a = (x*x for x in range(10))\n",
    "print(a)"
   ]
  },
  {
   "cell_type": "code",
   "execution_count": 283,
   "metadata": {},
   "outputs": [
    {
     "data": {
      "text/plain": [
       "285"
      ]
     },
     "execution_count": 283,
     "metadata": {},
     "output_type": "execute_result"
    }
   ],
   "source": [
    "sum(a)"
   ]
  },
  {
   "cell_type": "code",
   "execution_count": 284,
   "metadata": {
    "scrolled": true
   },
   "outputs": [
    {
     "data": {
      "text/plain": [
       "0"
      ]
     },
     "execution_count": 284,
     "metadata": {},
     "output_type": "execute_result"
    }
   ],
   "source": [
    "sum(a)"
   ]
  },
  {
   "cell_type": "markdown",
   "metadata": {},
   "source": [
    "## Object Oriented programming\n",
    "\n",
    "Object-oriented programming is one of the most effective approaches to writing software. In object-oriented programming you write classes that represent real-world things and situations, and you create objects based on these classes. When you write a class, you define the general behavior that a whole category of objects can have."
   ]
  },
  {
   "cell_type": "code",
   "execution_count": 297,
   "metadata": {},
   "outputs": [],
   "source": [
    "class Person:\n",
    "  \n",
    "    # Private attributes\n",
    "    __private = 56\n",
    "\n",
    "    # Methods with double underscore are methods that python adds to a class, and can be overridden\n",
    "    # __init__ is the constructor of the class\n",
    "    def __init__(self, name=\"John\", surname = \"Cena\", age=0):\n",
    "        # Attributes of the class\n",
    "        self.name = name\n",
    "        self.surname = surname\n",
    "        self.age = age    \n",
    "\n",
    "    # Methods of the class\n",
    "    def info(self):\n",
    "        print(self.name, self.surname)\n",
    "\n",
    "    # evaluatable string representation of an object\n",
    "    def __repr__(self):\n",
    "        return f\"Nombre: {self.name} Apellido: {self.surname} Edad: {str(self.age)}\"\n",
    "\n",
    "    def get_private(self):\n",
    "        return self.__private"
   ]
  },
  {
   "cell_type": "code",
   "execution_count": 300,
   "metadata": {},
   "outputs": [
    {
     "name": "stdout",
     "output_type": "stream",
     "text": [
      "Nombre: Octavio Apellido: Navarro Edad: 45\n",
      "Octavio\n",
      "Octavio Navarro\n",
      "Trying to access a private attribute\n",
      "56\n"
     ]
    }
   ],
   "source": [
    "p = Person(\"Octavio\", \"Navarro\", 45)\n",
    "print(p)\n",
    "\n",
    "print(p.name)\n",
    "\n",
    "p.info()\n",
    "\n",
    "try:\n",
    "    print(p.__private)\n",
    "except:\n",
    "    print(\"Trying to access a private attribute\")\n",
    "    print(p.get_private())"
   ]
  },
  {
   "cell_type": "code",
   "execution_count": 309,
   "metadata": {},
   "outputs": [],
   "source": [
    "class Student(Person):\n",
    "  \n",
    "    def __init__(self, nombre='A', apellido='B', edad=0, matricula=''):\n",
    "\n",
    "        # Person.__init__(self, nombre, apellido, edad)\n",
    "        # The same can be achieved with super\n",
    "        super().__init__(nombre, apellido, edad)\n",
    "        \n",
    "        self.matricula = matricula\n",
    "\n",
    "    def __repr__(self):\n",
    "        return Person.__repr__(self) + \" Matricula: \" + str(self.matricula)"
   ]
  },
  {
   "cell_type": "code",
   "execution_count": 306,
   "metadata": {
    "scrolled": true
   },
   "outputs": [
    {
     "name": "stdout",
     "output_type": "stream",
     "text": [
      "Nombre: A Apellido: B Edad: 34 Matricula: A00123456\n"
     ]
    }
   ],
   "source": [
    "student = Student('A', 'B', 34, 'A00123456')\n",
    "\n",
    "print(student)"
   ]
  },
  {
   "cell_type": "code",
   "execution_count": 313,
   "metadata": {},
   "outputs": [],
   "source": [
    "def create_mat():\n",
    "    return ''.join([letter for letter in random.choices(ascii_lowercase, k = 10)])"
   ]
  },
  {
   "cell_type": "code",
   "execution_count": 317,
   "metadata": {},
   "outputs": [
    {
     "name": "stdout",
     "output_type": "stream",
     "text": [
      "[Nombre: d Apellido: h Edad: 25 Matricula: ndrfyswwgy, Nombre: o Apellido: j Edad: 16 Matricula: ykoyaatoeu, Nombre: m Apellido: r Edad: 6 Matricula: lanaytftud, Nombre: h Apellido: u Edad: 21 Matricula: aasmwisebh, Nombre: x Apellido: a Edad: 8 Matricula: xdoxsxigkw, Nombre: c Apellido: t Edad: 14 Matricula: bcyhxwmvms, Nombre: c Apellido: p Edad: 26 Matricula: qvqixlnhrp, Nombre: i Apellido: f Edad: 12 Matricula: kdyehrqnmn, Nombre: t Apellido: p Edad: 19 Matricula: vkxxyezgex, Nombre: z Apellido: z Edad: 28 Matricula: gmrsdfqwfu]\n",
      "Nombre: m Apellido: r Edad: 6 Matricula: lanaytftud\n",
      "Nombre: x Apellido: a Edad: 8 Matricula: xdoxsxigkw\n",
      "Nombre: d Apellido: h Edad: 25 Matricula: ndrfyswwgy\n",
      "Nombre: o Apellido: j Edad: 16 Matricula: ykoyaatoeu\n",
      "Nombre: h Apellido: u Edad: 21 Matricula: aasmwisebh\n",
      "Nombre: c Apellido: t Edad: 14 Matricula: bcyhxwmvms\n",
      "Nombre: c Apellido: p Edad: 26 Matricula: qvqixlnhrp\n",
      "Nombre: i Apellido: f Edad: 12 Matricula: kdyehrqnmn\n",
      "Nombre: t Apellido: p Edad: 19 Matricula: vkxxyezgex\n",
      "Nombre: z Apellido: z Edad: 28 Matricula: gmrsdfqwfu\n"
     ]
    }
   ],
   "source": [
    "students = [Student(random.choice(ascii_lowercase), random.choice(ascii_lowercase), matricula=create_mat(),\n",
    "                    edad=random.randint(5, 30)) for _ in range(10)]\n",
    "print(students)\n",
    "\n",
    "sortedAge = sorted(students, key=lambda student: student.age)\n",
    "\n",
    "for student in sortedAge:\n",
    "    print(student)"
   ]
  }
 ],
 "metadata": {
  "kernelspec": {
   "display_name": "Python 3",
   "language": "python",
   "name": "python3"
  },
  "language_info": {
   "codemirror_mode": {
    "name": "ipython",
    "version": 3
   },
   "file_extension": ".py",
   "mimetype": "text/x-python",
   "name": "python",
   "nbconvert_exporter": "python",
   "pygments_lexer": "ipython3",
   "version": "3.7.5"
  }
 },
 "nbformat": 4,
 "nbformat_minor": 2
}
